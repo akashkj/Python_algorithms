{
 "cells": [
  {
   "cell_type": "markdown",
   "metadata": {},
   "source": [
    "# Header\n",
    "* Special kind of binary tree with each node having atmost 2 children\n",
    "* For a node, all the values in left subtree are less and all the values in right subtree are more than value of current node.\n",
    "* Each node will have three attributes - data, left child, right child"
   ]
  },
  {
   "cell_type": "code",
   "execution_count": 11,
   "metadata": {
    "collapsed": true
   },
   "outputs": [],
   "source": [
    "class Node(object):\n",
    "    def __init__(self, data):\n",
    "        self.data = data\n",
    "        self.left = None\n",
    "        self.right = None\n",
    "\n",
    "class BST(object):\n",
    "    def __init__(self):\n",
    "        self.root = None"
   ]
  },
  {
   "cell_type": "markdown",
   "metadata": {},
   "source": [
    "### 1. Valid binary tree\n",
    "* TODO"
   ]
  },
  {
   "cell_type": "markdown",
   "metadata": {},
   "source": [
    "### 2. Finding element\n",
    "* Can be solved both iteratively or recursively\n",
    "* Similar to binary search in operation\n",
    "* If value of current node is not equal to searched element, go to left subtree(if current > search) or right subtree(if current < search)\n",
    "* Once leaf node is reached then element is not present in the tree"
   ]
  },
  {
   "cell_type": "markdown",
   "metadata": {},
   "source": [
    "##### 2.1 Iterative"
   ]
  },
  {
   "cell_type": "code",
   "execution_count": 12,
   "metadata": {},
   "outputs": [
    {
     "name": "stdout",
     "output_type": "stream",
     "text": [
      "Is 5 present? True\n",
      "Is 3 present? True\n",
      "Is 10 present? True\n",
      "Is 20 present? False\n",
      "Is None present? False\n"
     ]
    }
   ],
   "source": [
    "class BST(object):\n",
    "    def __init__(self, root=None):\n",
    "        self.root = root\n",
    "        \n",
    "    def search(self, query):\n",
    "        if query is None or self.root is None:\n",
    "            return False\n",
    "        current = self.root\n",
    "        while True:\n",
    "            if not current:\n",
    "                return False\n",
    "            if current.data == query:\n",
    "                return True\n",
    "            elif current.data < query:\n",
    "                current = current.right\n",
    "            else:\n",
    "                current = current.left\n",
    "            \n",
    "# Test\n",
    "root = Node(5)\n",
    "root.left = Node(3)\n",
    "root.right = Node(10)\n",
    "bst = BST(root)\n",
    "print \"Is 5 present?\", bst.search(5)\n",
    "print \"Is 3 present?\", bst.search(3)\n",
    "print \"Is 10 present?\", bst.search(10)\n",
    "print \"Is 20 present?\", bst.search(20)\n",
    "print \"Is None present?\", bst.search(None)"
   ]
  },
  {
   "cell_type": "markdown",
   "metadata": {},
   "source": [
    "##### 2.2 Recursive"
   ]
  },
  {
   "cell_type": "code",
   "execution_count": 19,
   "metadata": {},
   "outputs": [
    {
     "name": "stdout",
     "output_type": "stream",
     "text": [
      " Is 5 present? True\n",
      "Is 3 present? True\n",
      "Is 10 present? True\n",
      "Is 20 present? False\n",
      "Is None present? False\n"
     ]
    }
   ],
   "source": [
    "class BST(object):\n",
    "        \n",
    "    def search(self, query, root):\n",
    "        if query is None or root is None:\n",
    "            return False\n",
    "        if root.data == query:\n",
    "            return True\n",
    "        elif root.data < query:\n",
    "            return self.search(query, root.right)\n",
    "        else:\n",
    "            return self.search(query, root.left)\n",
    "            \n",
    "# Test\n",
    "root = Node(5)\n",
    "root.left = Node(3)\n",
    "root.right = Node(10)\n",
    "bst = BST()\n",
    "\n",
    "print \"Is 5 present?\", bst.search(5, root)\n",
    "print \"Is 3 present?\", bst.search(3, root)\n",
    "print \"Is 10 present?\", bst.search(10, root)\n",
    "print \"Is 20 present?\", bst.search(20, root)\n",
    "print \"Is None present?\", bst.search(None, root)"
   ]
  },
  {
   "cell_type": "markdown",
   "metadata": {},
   "source": [
    "### 3. Insertion\n",
    "* Insertion should be done such that properties of a BST are preserved\n",
    "* Can done done both iteratively and recursively"
   ]
  },
  {
   "cell_type": "markdown",
   "metadata": {},
   "source": [
    "##### 3.1 Iterative"
   ]
  },
  {
   "cell_type": "code",
   "execution_count": 25,
   "metadata": {},
   "outputs": [
    {
     "name": "stdout",
     "output_type": "stream",
     "text": [
      "root  5\n",
      "root->left  3\n",
      "root->right  10\n"
     ]
    }
   ],
   "source": [
    "class BST(object):\n",
    "    def __init__(self):\n",
    "        self.root = None\n",
    "        \n",
    "    def insert(self, value):\n",
    "        node = Node(value)\n",
    "        if not self.root:\n",
    "            self.root = node\n",
    "            return self.root\n",
    "        current = self.root\n",
    "        while True:\n",
    "            if value <= current.data:\n",
    "                if current.left is None:\n",
    "                    current.left = node\n",
    "                    return current.left\n",
    "                else:\n",
    "                    current = current.left\n",
    "            if value > current.data:\n",
    "                if current.right is None:\n",
    "                    current.right = node\n",
    "                    return current.right\n",
    "                else:\n",
    "                    current = current.right\n",
    "                    \n",
    "                    \n",
    "# Test\n",
    "bst = BST()\n",
    "bst.insert(5)\n",
    "print \"root \", bst.root.data\n",
    "bst.insert(3)\n",
    "bst.insert(10)\n",
    "print \"root->left \", bst.root.left.data\n",
    "print \"root->right \", bst.root.right.data"
   ]
  },
  {
   "cell_type": "markdown",
   "metadata": {},
   "source": [
    "### Deletion\n",
    "* To delete a leaf node, simply remove its reference from its parent\n",
    "* To delete a node with sigle child, assign its child as child to parent of that node\n",
    "* To delete a node with two children:\n",
    "   * Find smallest value in right subtree(its left child will be empty)\n",
    "   * Assign smallest value to the node to be deleted\n",
    "   * Delete smallest node found earlier(as there will be two nodes now with same value). Initial smallest value node have 0 or 1 child which is same case as either first or second"
   ]
  },
  {
   "cell_type": "markdown",
   "metadata": {},
   "source": [
    "### Performance\n",
    "* With same data, different structures of a BST can be formed, depending on the order of insertion\n",
    "* To make worst case less expensive, it is crucial to make BST height balanced\n",
    "* __Height__ of a binary tree is maximum distance from root to a leaf node\n",
    "* A _balanced BST_ is a binary search tree where each subtree tree has a maximum absolute height difference of 1 between left and right subtrees.\n",
    "* For a balanced BST, height of tree is ~ log N (which helps in giving better worst case performance than BST)\n",
    "* Balanced BST performs better than a BST in worst case senario\n",
    "\n",
    "|            | Best case | Average case | Worst case |\n",
    "|------------|-----------|--------------|------------|\n",
    "|Linked list | O(1)      | O(n)         | O(n)       |\n",
    "|BST         | O(1)      | O(log n)     | O(n)       |\n",
    "|Balanced BST| O(1)      | O(log n)     | O(log n)   |"
   ]
  },
  {
   "cell_type": "code",
   "execution_count": null,
   "metadata": {
    "collapsed": true
   },
   "outputs": [],
   "source": []
  }
 ],
 "metadata": {
  "kernelspec": {
   "display_name": "Python 2",
   "language": "python",
   "name": "python2"
  },
  "language_info": {
   "codemirror_mode": {
    "name": "ipython",
    "version": 2
   },
   "file_extension": ".py",
   "mimetype": "text/x-python",
   "name": "python",
   "nbconvert_exporter": "python",
   "pygments_lexer": "ipython2",
   "version": "2.7.13"
  }
 },
 "nbformat": 4,
 "nbformat_minor": 2
}
